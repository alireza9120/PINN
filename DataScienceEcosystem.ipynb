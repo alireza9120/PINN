{
 "cells": [
  {
   "cell_type": "markdown",
   "id": "f340a27b-8573-4e39-bbea-59805a81fb95",
   "metadata": {},
   "source": [
    "# Data Science Tools and Ecosystem"
   ]
  },
  {
   "cell_type": "markdown",
   "id": "a75bc72b-1b7e-4a7f-ac5d-044717e446ad",
   "metadata": {},
   "source": [
    "**Objectives:**\n",
    "- list popular languages in data science\n",
    "- list polular tool in data sicnece\n",
    "- list popular development enviromnet in data science"
   ]
  },
  {
   "cell_type": "markdown",
   "id": "fb0d0c81-2ec9-4dae-a03b-7df39d28e690",
   "metadata": {},
   "source": [
    "# In this notebook, Data Science Tools and Ecosystem are summarized."
   ]
  },
  {
   "cell_type": "markdown",
   "id": "7142b9f2-fb6c-4816-ba70-0f17a3902d3f",
   "metadata": {},
   "source": [
    "# Some of the popular languages that Data Scientists use are:\n",
    "1. Python\n",
    "2. R\n",
    "3. Julia"
   ]
  },
  {
   "cell_type": "markdown",
   "id": "8ac4e56d-58af-430c-8bf8-eab3cd6a5d5b",
   "metadata": {},
   "source": [
    "# Some of the commonly used libraries used by Data Scientists include:\n",
    "1. Numpy\n",
    "2. Pandas\n",
    "3. Matplotlib"
   ]
  },
  {
   "cell_type": "markdown",
   "id": "26657681-7da9-47b9-bec5-3a62a02d27e7",
   "metadata": {},
   "source": [
    "|Data Science Tools|\n",
    "|------------------|\n",
    "|Jupyter Notebook  |\n",
    "|Rstudio           |\n",
    "|visual studio     |"
   ]
  },
  {
   "cell_type": "markdown",
   "id": "0d8a00c0-af53-45e3-beeb-7a4a630b52ef",
   "metadata": {},
   "source": [
    "### Below are a few examples of evaluating arithmetic expressions in Python"
   ]
  },
  {
   "cell_type": "code",
   "execution_count": 9,
   "id": "a96f858a-2211-46d5-83af-cdece883f5a1",
   "metadata": {},
   "outputs": [
    {
     "data": {
      "text/plain": [
       "17"
      ]
     },
     "execution_count": 9,
     "metadata": {},
     "output_type": "execute_result"
    }
   ],
   "source": [
    "# This a simple arithmetic expression to mutiply then add integers\n",
    "(3*4)+5"
   ]
  },
  {
   "cell_type": "code",
   "execution_count": 11,
   "id": "4e9ec45e-75d1-43a7-ab4f-6ed47fab43c3",
   "metadata": {},
   "outputs": [
    {
     "data": {
      "text/plain": [
       "3.3333333333333335"
      ]
     },
     "execution_count": 11,
     "metadata": {},
     "output_type": "execute_result"
    }
   ],
   "source": [
    "# This will convert 200 minutes to hours by diving by 60\n",
    "200/60"
   ]
  },
  {
   "cell_type": "code",
   "execution_count": null,
   "id": "245dbeb1-bde8-4b6b-a168-fa5fb4a9a97a",
   "metadata": {},
   "outputs": [],
   "source": [
    "## Authord\n",
    "Alireza Ahmadi"
   ]
  }
 ],
 "metadata": {
  "kernelspec": {
   "display_name": "Python 3 (ipykernel)",
   "language": "python",
   "name": "python3"
  },
  "language_info": {
   "codemirror_mode": {
    "name": "ipython",
    "version": 3
   },
   "file_extension": ".py",
   "mimetype": "text/x-python",
   "name": "python",
   "nbconvert_exporter": "python",
   "pygments_lexer": "ipython3",
   "version": "3.12.4"
  }
 },
 "nbformat": 4,
 "nbformat_minor": 5
}
